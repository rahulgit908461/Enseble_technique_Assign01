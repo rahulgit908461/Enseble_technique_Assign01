{
 "cells": [
  {
   "cell_type": "code",
   "execution_count": 1,
   "id": "17006838-c944-43a6-a9d7-3daf10c72199",
   "metadata": {},
   "outputs": [],
   "source": [
    "#Q1. What is an ensemble technique in machine learning?"
   ]
  },
  {
   "cell_type": "code",
   "execution_count": 2,
   "id": "1bbe449b-8c81-4705-a32b-aa87eeecf161",
   "metadata": {},
   "outputs": [],
   "source": [
    "#Ensemble methods are techniques that create multiple models and then combine them to produce improved results. \n",
    "#Ensemble methods usually produces more accurate solutions than a single model would. This has been the case in a \n",
    "#number of machine learning competitions, where the winning solutions used ensemble methods."
   ]
  },
  {
   "cell_type": "code",
   "execution_count": 3,
   "id": "e899d61e-d61d-4dac-b9eb-c065507527b2",
   "metadata": {},
   "outputs": [],
   "source": [
    "#Q2. Why are ensemble techniques used in machine learning?"
   ]
  },
  {
   "cell_type": "code",
   "execution_count": 4,
   "id": "28410207-fb4b-4085-b817-4fc3d1ef1586",
   "metadata": {},
   "outputs": [],
   "source": [
    "#There are two main reasons to use an ensemble over a single model, and they are related; they are: Performance: \n",
    "#An ensemble can make better predictions and achieve better performance than any single contributing model.\n",
    "#Robustness: An ensemble reduces the spread or dispersion of the predictions and model performance."
   ]
  },
  {
   "cell_type": "code",
   "execution_count": 5,
   "id": "abff2c23-7d44-4e7b-a00c-09d114f945f9",
   "metadata": {},
   "outputs": [],
   "source": [
    "#Q3. What is bagging?"
   ]
  },
  {
   "cell_type": "code",
   "execution_count": 6,
   "id": "40145c14-df01-47f5-ab72-c8f30b221eb7",
   "metadata": {},
   "outputs": [],
   "source": [
    "# Bagging, also known as bootstrap aggregation, is the ensemble learning method that is commonly used to reduce \n",
    "#variance within a noisy dataset. In bagging, a random sample of data in a training set is selected with\n",
    "#replacement—meaning that the individual data points can be chosen more than once."
   ]
  },
  {
   "cell_type": "code",
   "execution_count": 7,
   "id": "4becea4b-e2c4-4458-894d-af44841eb011",
   "metadata": {},
   "outputs": [],
   "source": [
    "#Q4. What is boosting?"
   ]
  },
  {
   "cell_type": "code",
   "execution_count": 8,
   "id": "bad827d5-8135-440c-8aff-b6d579a11b6f",
   "metadata": {},
   "outputs": [],
   "source": [
    "#Boosting converts a system of weak learners into a single strong learning system. For example, to identify the cat \n",
    "#image, it combines a weak learner that guesses for pointy ears and another learner that guesses for cat-shaped eyes."
   ]
  },
  {
   "cell_type": "code",
   "execution_count": 9,
   "id": "bb94ee5c-d024-441f-8ba8-f9a185925d04",
   "metadata": {},
   "outputs": [],
   "source": [
    "#Q5. What are the benefits of using ensemble techniques?"
   ]
  },
  {
   "cell_type": "code",
   "execution_count": 10,
   "id": "6aca9fb8-2253-463c-a05b-0dfd9b0551a1",
   "metadata": {},
   "outputs": [],
   "source": [
    "#1. Performance: An ensemble can make better predictions and achieve better performance than any single contributing\n",
    "#model.\n",
    "#2. Robustness: An ensemble reduces the spread or dispersion of the predictions and model performance."
   ]
  },
  {
   "cell_type": "code",
   "execution_count": 11,
   "id": "2a142d37-3b02-4053-ab1f-7e3b038c0e21",
   "metadata": {},
   "outputs": [],
   "source": [
    "#Q6. Are ensemble techniques always better than individual models?"
   ]
  },
  {
   "cell_type": "code",
   "execution_count": 12,
   "id": "94faddfd-cc6d-4149-a0bd-9ba220d5667f",
   "metadata": {},
   "outputs": [],
   "source": [
    "#Ensemble methods have higher predictive accuracy, compared to the individual models. 2. Ensemble methods are very \n",
    "#useful when there is both linear and non-linear type of data in the dataset; different models can be combined to\n",
    "#handle this type of data."
   ]
  },
  {
   "cell_type": "code",
   "execution_count": 13,
   "id": "6a8c4305-f8df-4bec-a168-832b61bc6457",
   "metadata": {},
   "outputs": [],
   "source": [
    "#Q7. How is the confidence interval calculated using bootstrap?"
   ]
  },
  {
   "cell_type": "code",
   "execution_count": 14,
   "id": "3cfbb914-61a8-413e-88c9-5b0057fd666f",
   "metadata": {},
   "outputs": [],
   "source": [
    "#Methods for Bootstrapping Confidence Intervals\n",
    "#Start with resampling with replacement from original data n times.\n",
    "#For each bootstrap calculate mean x*.\n",
    "#Compute δ* = x* − x for each bootstrap sample (x is mean of original data), sort them from smallest to biggest.\n",
    "#Choose δ. 1 as the 90th percentile, δ."
   ]
  },
  {
   "cell_type": "code",
   "execution_count": 15,
   "id": "8bd07a8c-6975-45c4-8a74-7818691c1be2",
   "metadata": {},
   "outputs": [],
   "source": [
    "#Q8. How does bootstrap work and What are the steps involved in bootstrap?"
   ]
  },
  {
   "cell_type": "code",
   "execution_count": 16,
   "id": "87a2e23e-b9c2-4eb8-b09f-8b6fba22a659",
   "metadata": {},
   "outputs": [],
   "source": [
    "#In statistics and machine learning, bootstrapping is a resampling technique that involves repeatedly drawing samples\n",
    "#from our source data with replacement, often to estimate a population parameter. By “with replacement”, we mean that\n",
    "#the same data point may be included in our resampled dataset multiple times.\n",
    "#Calculate a sample statistics, e.g. mean, median. Start the bootstrap by re-sampling the sample data with replacement.\n",
    "#From the bootstrapped sample, calculate and store the re-sampled statistic. Repeat these steps many times to create \n",
    "#a bootstrapped distribution of re-sampled statistics."
   ]
  },
  {
   "cell_type": "code",
   "execution_count": 17,
   "id": "d13f2690-2506-42e0-a490-2df9dc6e77b3",
   "metadata": {},
   "outputs": [],
   "source": [
    "#Q9. A researcher wants to estimate the mean height of a population of trees. They measure the height of a\n",
    "#sample of 50 trees and obtain a mean height of 15 meters and a standard deviation of 2 meters. Use\n",
    "#bootstrap to estimate the 95% confidence interval for the population mean height."
   ]
  }
 ],
 "metadata": {
  "kernelspec": {
   "display_name": "Python 3 (ipykernel)",
   "language": "python",
   "name": "python3"
  },
  "language_info": {
   "codemirror_mode": {
    "name": "ipython",
    "version": 3
   },
   "file_extension": ".py",
   "mimetype": "text/x-python",
   "name": "python",
   "nbconvert_exporter": "python",
   "pygments_lexer": "ipython3",
   "version": "3.10.8"
  }
 },
 "nbformat": 4,
 "nbformat_minor": 5
}
